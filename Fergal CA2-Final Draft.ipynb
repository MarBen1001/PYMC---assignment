{
 "cells": [
  {
   "cell_type": "markdown",
   "metadata": {},
   "source": [
    "CA2 Advanced Analytics"
   ]
  },
  {
   "cell_type": "markdown",
   "metadata": {},
   "source": [
    "Mary Hennessy - 10345121 "
   ]
  },
  {
   "cell_type": "code",
   "execution_count": 1,
   "metadata": {
    "collapsed": true
   },
   "outputs": [],
   "source": [
    "import pandas as pd\n",
    "import numpy as np\n",
    "import matplotlib.pyplot as plt\n",
    "from matplotlib.pyplot import*\n",
    "from matplotlib import colors\n",
    "import seaborn as sns\n",
    "import statsmodels.api as sm\n",
    "import pylab as pl\n",
    "from sklearn.linear_model import LinearRegression\n",
    "from sklearn import cross_validation as cv\n",
    "%matplotlib inline\n",
    "np.random.seed(9191)\n",
    "import pymc\n",
    "import scipy.stats as stats\n",
    "from pymc import DiscreteUniform, Exponential, deterministic, Poisson, Uniform"
   ]
  },
  {
   "cell_type": "code",
   "execution_count": 2,
   "metadata": {
    "collapsed": true
   },
   "outputs": [],
   "source": [
    "pd.set_option('display.max_row', 2)"
   ]
  },
  {
   "cell_type": "markdown",
   "metadata": {},
   "source": [
    "### 1. Bayes theorem practice Use Bayes theorem to solve the following problem: \n",
    "\n",
    "Bayes theorem practice. Showing your workings, calculate the right answer in your notebook (10 marks)\n",
    "\n",
    "A woman takes either the bus or taxi to her job. 2/3rds of the time she takes the bus to work, and 1/3rd of the time she takes a taxi. If she takes a taxi, she is at work on time with probability 0.99. If she takes bus, she is at work on time with probability 0.85. Given that she was on time on a particular morning, what is the probability that she took a taxi that morning? Show your calculations\n",
    "\n",
    "bayes theorem:\n",
    "\n",
    "p(A|B) = (p(B|A)p(A))\\ p(B) \n",
    "\n",
    "       =  p(B|A)p(A)\\ (p(B|A)p(A)+p(B|notA)p(notA))\n",
    "\t         \t        \n",
    " \n",
    "p(B)      = p(B|A)p(A) p(B|notA)p(notA)\n",
    "         is  p(A intersection B) + p (notA intersection B)\n",
    "\n",
    "\n",
    "\n",
    "So:\n",
    "\n",
    "\n",
    "p(Taxi) = 0.33 p(A)\n",
    "p(NotTaxi)=0.66\n",
    "\n",
    "p(OnTime|Taxi) =0.99 p(B|A)\n",
    "\n",
    "p(OnTime|Bus) = p(OnTime|NotTaxi) =0.85  : p(B|~A)\n",
    "\n",
    "p(OnTime)  =    p(OnTime|Taxi)  +  p(OnTime|NotTaxi) : p(B)\n",
    "\n",
    "\n",
    "p(Taxi|OnTime) = (0.99)(0.33) \\ ((0.99)(0.33)+(0.85)(0.66))\n",
    "  \n",
    "\t\t       = 0.3267 \\(0.3267+0.561)\n",
    "\n",
    "               = 0.3267\\0.8877\n",
    "\n",
    "                =0.368\n"
   ]
  },
  {
   "cell_type": "code",
   "execution_count": 3,
   "metadata": {
    "collapsed": false
   },
   "outputs": [
    {
     "name": "stdout",
     "output_type": "stream",
     "text": [
      "0.368029739777 = probability she took a taxi this morning given she was on time\n"
     ]
    }
   ],
   "source": [
    "#and in python:\n",
    "prior_taxi = 0.33  \n",
    "\n",
    "prior_bus = 0.66\n",
    "\n",
    "\n",
    "likelihood_on_time_taxi = 0.99\n",
    "\n",
    "likelihood_on_time_bus = 0.85\n",
    "\n",
    "\n",
    "evidence = ((likelihood_on_time_taxi)*(prior_taxi)) + ((likelihood_on_time_bus)*(prior_bus))\n",
    "\n",
    "\n",
    "posterior = ((likelihood_on_time_taxi)*(prior_taxi))/evidence\n",
    "\n",
    "print posterior, '= probability she took a taxi this morning given she was on time'"
   ]
  },
  {
   "cell_type": "markdown",
   "metadata": {},
   "source": [
    "."
   ]
  },
  {
   "cell_type": "markdown",
   "metadata": {},
   "source": [
    "### 2. Elementary inference of the parameters of a normal\n",
    "Using PYMC, calculate the posterior values for mean height and some measure of deviation,\n",
    "each of men and women using this dataset:\n",
    "https://github.com/rmcelreath/rethinking/blob/master/data/Howell1.csv\n",
    "Plot the posterior mean and deviation for men and for women.\n",
    "Get your prior here: http://www.usablestats.com/lessons/normal\n",
    "\n",
    "For example, adult male heights are on average 70 inches  (5'10)/(175cm) with a standard deviation of 4 inches(10cm). Adult women are on average a bit shorter and less variable in height with a mean height of 65  inches (5'5)(162.5cm) and standard deviation of 3.5 inches. (8.75cm)\n",
    "\n",
    "Note my conversions to cm all rounded ie 4\"=10cm , 3.5\"=8.75cm, 5'10\"=175cm, 5'5\"= 162.5cm \n"
   ]
  },
  {
   "cell_type": "code",
   "execution_count": 4,
   "metadata": {
    "collapsed": false
   },
   "outputs": [
    {
     "data": {
      "text/html": [
       "<div>\n",
       "<table border=\"1\" class=\"dataframe\">\n",
       "  <thead>\n",
       "    <tr style=\"text-align: right;\">\n",
       "      <th></th>\n",
       "      <th>height</th>\n",
       "      <th>weight</th>\n",
       "      <th>age</th>\n",
       "      <th>male</th>\n",
       "    </tr>\n",
       "  </thead>\n",
       "  <tbody>\n",
       "    <tr>\n",
       "      <th>0</th>\n",
       "      <td>151.765</td>\n",
       "      <td>47.825606</td>\n",
       "      <td>63.0</td>\n",
       "      <td>1</td>\n",
       "    </tr>\n",
       "    <tr>\n",
       "      <th>...</th>\n",
       "      <td>...</td>\n",
       "      <td>...</td>\n",
       "      <td>...</td>\n",
       "      <td>...</td>\n",
       "    </tr>\n",
       "    <tr>\n",
       "      <th>19</th>\n",
       "      <td>105.410</td>\n",
       "      <td>13.947954</td>\n",
       "      <td>8.0</td>\n",
       "      <td>0</td>\n",
       "    </tr>\n",
       "  </tbody>\n",
       "</table>\n",
       "<p>20 rows × 4 columns</p>\n",
       "</div>"
      ],
      "text/plain": [
       "     height     weight   age  male\n",
       "0   151.765  47.825606  63.0     1\n",
       "..      ...        ...   ...   ...\n",
       "19  105.410  13.947954   8.0     0\n",
       "\n",
       "[20 rows x 4 columns]"
      ]
     },
     "execution_count": 4,
     "metadata": {},
     "output_type": "execute_result"
    }
   ],
   "source": [
    "df_data = pd.read_csv('https://raw.githubusercontent.com/rmcelreath/rethinking/master/data/Howell1.csv',sep=';', header=0, names=('height','weight','age','male'))\n",
    "# or if no internet: df_data = pd.read_csv('CA2_data.csv')\n",
    "\n",
    "df_data.head(20)\n",
    "#len(df_data)\n"
   ]
  },
  {
   "cell_type": "code",
   "execution_count": 5,
   "metadata": {
    "collapsed": false
   },
   "outputs": [
    {
     "data": {
      "text/plain": [
       "257"
      ]
     },
     "execution_count": 5,
     "metadata": {},
     "output_type": "execute_result"
    }
   ],
   "source": [
    "df_male = df_data[(df_data.male==1)]\n",
    "df_male\n",
    "len(df_male)"
   ]
  },
  {
   "cell_type": "code",
   "execution_count": 6,
   "metadata": {
    "collapsed": false
   },
   "outputs": [
    {
     "data": {
      "text/html": [
       "<div>\n",
       "<table border=\"1\" class=\"dataframe\">\n",
       "  <thead>\n",
       "    <tr style=\"text-align: right;\">\n",
       "      <th></th>\n",
       "      <th>height</th>\n",
       "      <th>weight</th>\n",
       "      <th>age</th>\n",
       "      <th>male</th>\n",
       "    </tr>\n",
       "  </thead>\n",
       "  <tbody>\n",
       "    <tr>\n",
       "      <th>0</th>\n",
       "      <td>151.765</td>\n",
       "      <td>47.825606</td>\n",
       "      <td>63.0</td>\n",
       "      <td>1</td>\n",
       "    </tr>\n",
       "    <tr>\n",
       "      <th>...</th>\n",
       "      <td>...</td>\n",
       "      <td>...</td>\n",
       "      <td>...</td>\n",
       "      <td>...</td>\n",
       "    </tr>\n",
       "    <tr>\n",
       "      <th>543</th>\n",
       "      <td>158.750</td>\n",
       "      <td>52.531624</td>\n",
       "      <td>68.0</td>\n",
       "      <td>1</td>\n",
       "    </tr>\n",
       "  </tbody>\n",
       "</table>\n",
       "<p>257 rows × 4 columns</p>\n",
       "</div>"
      ],
      "text/plain": [
       "      height     weight   age  male\n",
       "0    151.765  47.825606  63.0     1\n",
       "..       ...        ...   ...   ...\n",
       "543  158.750  52.531624  68.0     1\n",
       "\n",
       "[257 rows x 4 columns]"
      ]
     },
     "execution_count": 6,
     "metadata": {},
     "output_type": "execute_result"
    }
   ],
   "source": [
    "df_male = df_data[(df_data.male==1)]\n",
    "df_male"
   ]
  },
  {
   "cell_type": "code",
   "execution_count": 7,
   "metadata": {
    "collapsed": false
   },
   "outputs": [
    {
     "data": {
      "text/plain": [
       "287"
      ]
     },
     "execution_count": 7,
     "metadata": {},
     "output_type": "execute_result"
    }
   ],
   "source": [
    "df_female = df_data[(df_data.male==0)]\n",
    "df_female\n",
    "len(df_female)"
   ]
  },
  {
   "cell_type": "code",
   "execution_count": 8,
   "metadata": {
    "collapsed": false
   },
   "outputs": [
    {
     "data": {
      "text/html": [
       "<div>\n",
       "<table border=\"1\" class=\"dataframe\">\n",
       "  <thead>\n",
       "    <tr style=\"text-align: right;\">\n",
       "      <th></th>\n",
       "      <th>height</th>\n",
       "      <th>weight</th>\n",
       "      <th>age</th>\n",
       "      <th>male</th>\n",
       "    </tr>\n",
       "  </thead>\n",
       "  <tbody>\n",
       "    <tr>\n",
       "      <th>1</th>\n",
       "      <td>139.70</td>\n",
       "      <td>36.485807</td>\n",
       "      <td>63.0</td>\n",
       "      <td>0</td>\n",
       "    </tr>\n",
       "    <tr>\n",
       "      <th>...</th>\n",
       "      <td>...</td>\n",
       "      <td>...</td>\n",
       "      <td>...</td>\n",
       "      <td>...</td>\n",
       "    </tr>\n",
       "    <tr>\n",
       "      <th>541</th>\n",
       "      <td>156.21</td>\n",
       "      <td>54.062496</td>\n",
       "      <td>21.0</td>\n",
       "      <td>0</td>\n",
       "    </tr>\n",
       "  </tbody>\n",
       "</table>\n",
       "<p>287 rows × 4 columns</p>\n",
       "</div>"
      ],
      "text/plain": [
       "     height     weight   age  male\n",
       "1    139.70  36.485807  63.0     0\n",
       "..      ...        ...   ...   ...\n",
       "541  156.21  54.062496  21.0     0\n",
       "\n",
       "[287 rows x 4 columns]"
      ]
     },
     "execution_count": 8,
     "metadata": {},
     "output_type": "execute_result"
    }
   ],
   "source": [
    "df_female = df_data[(df_data.male==0)]\n",
    "df_female"
   ]
  },
  {
   "cell_type": "code",
   "execution_count": 9,
   "metadata": {
    "collapsed": false
   },
   "outputs": [
    {
     "name": "stdout",
     "output_type": "stream",
     "text": [
      "0.01\n",
      "100.0\n",
      "10.0\n"
     ]
    }
   ],
   "source": [
    "tau = 1./(10**2)\n",
    "print tau\n",
    "print (1.0/tau)\n",
    "print np.sqrt(1.0/tau)"
   ]
  },
  {
   "cell_type": "code",
   "execution_count": 14,
   "metadata": {
    "collapsed": false
   },
   "outputs": [
    {
     "name": "stdout",
     "output_type": "stream",
     "text": [
      " [-----------------100%-----------------] 51000 of 51000 complete in 7.2 sec"
     ]
    },
    {
     "data": {
      "image/png": "[encoded data removed]",
      "text/plain": [
       "<matplotlib.figure.Figure at 0x11d0ff390>"
      ]
     },
     "metadata": {},
     "output_type": "display_data"
    },
    {
     "data": {
      "image/png": "[encoded data removed]",
      "text/plain": [
       "<matplotlib.figure.Figure at 0x11d5780d0>"
      ]
     },
     "metadata": {},
     "output_type": "display_data"
    }
   ],
   "source": [
    "#male data \n",
    "\n",
    "y = df_male.height\n",
    "mu = 175\n",
    "tau = 1./(10**2)\n",
    "\n",
    "\n",
    "mu = pymc.Normal('mu', mu=mu,tau=tau)\n",
    "tau = pymc.Normal('tau')\n",
    "\n",
    "#define likelihood\n",
    "y_obs = pymc.Normal('Y_obs', mu=mu, tau=tau, value=y, observed=True)\n",
    "\n",
    "#inference\n",
    "m = pymc.Model([y_obs, mu, tau])\n",
    "mc = pymc.MCMC(m)\n",
    "mc.sample(iter=51000, burn=10000)\n",
    "          \n",
    "\n",
    "\n",
    "\n",
    "    \n",
    "plt.figure(figsize=(10,8))\n",
    "plt.subplot(111)\n",
    "plt.hist(mu.trace(), 15, normed=True, histtype ='step', label ='post');\n",
    "plt.legend(loc='best');\n",
    "          \n",
    "plt.figure(figsize=(10, 8))\n",
    "plt.subplot(212)\n",
    "plt.hist(np.sqrt(1.0/tau.trace()), 15, normed=True, histtype ='step', label ='post'); # adjust tau to revert to sd\n",
    "plt.legend(loc='best');\n"
   ]
  },
  {
   "cell_type": "code",
   "execution_count": 15,
   "metadata": {
    "collapsed": false
   },
   "outputs": [
    {
     "name": "stdout",
     "output_type": "stream",
     "text": [
      " [-----------------100%-----------------] 51000 of 51000 complete in 7.0 sec"
     ]
    },
    {
     "data": {
      "image/png": "[encoded data removed]",
      "text/plain": [
       "<matplotlib.figure.Figure at 0x11d147750>"
      ]
     },
     "metadata": {},
     "output_type": "display_data"
    },
    {
     "data": {
      "image/png": "[encoded data removed]",
      "text/plain": [
       "<matplotlib.figure.Figure at 0x11e0b2490>"
      ]
     },
     "metadata": {},
     "output_type": "display_data"
    }
   ],
   "source": [
    "# female data  \n",
    "\n",
    "y = df_female.height\n",
    "mu = 162.5\n",
    "tau = 1./(10**2)\n",
    "\n",
    "mu = pymc.Normal('mu', mu=mu,tau=tau)\n",
    "tau = pymc.Normal('tau')\n",
    "\n",
    "#define likelihood\n",
    "y_obs = pymc.Normal('Y_obs', mu=mu, tau=tau, value=y, observed=True)\n",
    "\n",
    "#inference\n",
    "m = pymc.Model([y_obs, mu, tau])\n",
    "mc = pymc.MCMC(m)\n",
    "mc.sample(iter=51000, burn=10000)\n",
    "          \n",
    "\n",
    "plt.figure(figsize=(10,8))\n",
    "plt.subplot(111)\n",
    "plt.hist(mu.trace(), 15, histtype='step', normed=True, label ='post');\n",
    "plt.legend(loc='best');\n",
    "          \n",
    "plt.figure(figsize=(10, 8))\n",
    "plt.subplot(212)\n",
    "plt.hist(np.sqrt(1.0/tau.trace()), 15, histtype='step', normed=True, label ='post');\n",
    "plt.legend(loc='best');"
   ]
  },
  {
   "cell_type": "markdown",
   "metadata": {},
   "source": [
    "."
   ]
  },
  {
   "cell_type": "markdown",
   "metadata": {},
   "source": [
    "###   3. Beta binomial inference\n",
    "    A strange device emits the following signals:\n",
    "    [true, false, true, true, true, true, false, false]\n",
    "    Assuming a uniform prior, use pymc to plot the posterior distribution (as described by a beta\n",
    "    distribution) of the chance that the next signal emitted is ‘false’\n",
    "    What is the maximum you would rationally pay, to win $30 if the next signal emitted is ‘false’?"
   ]
  },
  {
   "cell_type": "code",
   "execution_count": 16,
   "metadata": {
    "collapsed": false
   },
   "outputs": [],
   "source": [
    "# Beta binomial inference\n",
    "\n",
    "n = 8  # total number signals\n",
    "f = 3  # total number of falses\n",
    "alpha = 1\n",
    "beta = 1\n",
    "\n",
    "p = pymc.Beta('p', alpha=alpha, beta=beta)  #Alpha and Beta equal to 1 will give uniform prior distribution \n",
    "y = pymc.Binomial('y', n=n, p=p, value=f, observed=True)\n",
    "m = pymc.Model([p, y])\n",
    "mc = pymc.MCMC(m, )"
   ]
  },
  {
   "cell_type": "code",
   "execution_count": 17,
   "metadata": {
    "collapsed": false
   },
   "outputs": [
    {
     "name": "stdout",
     "output_type": "stream",
     "text": [
      " [-----------------100%-----------------] 51000 of 51000 complete in 3.8 sec"
     ]
    },
    {
     "data": {
      "image/png": "[encoded data removed]",
      "text/plain": [
       "<matplotlib.figure.Figure at 0x11d376150>"
      ]
     },
     "metadata": {},
     "output_type": "display_data"
    }
   ],
   "source": [
    "plt.figure(figsize=(18, 12))\n",
    "mc.sample(iter=51000, burn=10000)\n",
    "plt.hist(p.trace(), 50, histtype='step', normed=True, label='post');\n",
    "x = np.linspace(0, 1, 100)\n",
    "plt.plot(x, stats.beta.pdf(x, alpha, beta), label='prior');\n",
    "plt.legend(loc='best');"
   ]
  },
  {
   "cell_type": "markdown",
   "metadata": {},
   "source": [
    "### Question 3 cont:  \n",
    "What is the maximum you would rationally pay, to win $30 if the next signal emitted is ‘false’?\n",
    "\n"
   ]
  },
  {
   "cell_type": "markdown",
   "metadata": {
    "collapsed": true
   },
   "source": [
    "       Have 30 . know only: of previous 8 signals 3 were false. So EV on  $30 would be 3/8 of  $30. This is $11.25\n",
    "       \n",
    "       if had other information that signals evened out over time could go to 50% but just this evidence would stick \n",
    "       to 11.25 if being rational  - can see this ish from graph above"
   ]
  },
  {
   "cell_type": "markdown",
   "metadata": {},
   "source": [
    "### 4. Business modeling\n",
    "\n",
    " An online retailer has asked you to help figure out the maximum amount they should bid on\n",
    "ads to bring a user to their site.\n",
    "\n",
    " They want to know how much they should pay for each ad\n",
    "click in future. \n",
    "\n",
    " You want to make as many sales as possible while breaking even (you are not\n",
    "trying to maximise profit, you are optimizing for market penetration instead).\n",
    "\n",
    "   The average value of an order, for users who actually order, can be described by normal\n",
    "    distribution with mean $30 and standard deviation 5.\n",
    "\n",
    " However, not everybody who clicks on the ad subsequently orders.\n",
    "\n",
    " We are not sure of the exact conversion rate - but our prior which we’ll use is that the\n",
    "probability of a user ordering, given that they click on the ad and visit the site, can be described\n",
    "by a beta distribution, beta(alpha=2,beta=5) (i.e. we think conversion rates are low, about\n",
    "16% on average).\n",
    "\n",
    " Use pymc to make a model of the above situation.\n",
    "\n",
    " Use pymc to plot your prior distributions. Then plot the distribution of how much money the\n",
    "average click will bring in. (This will tell us how much we can afford to pay for the average\n",
    "click. \n",
    " Assume no costs other than customer acquisition.)\n",
    " \n",
    " How much can we afford to pay?\n",
    "\n",
    " What if we are worried about being unlucky - how much can we conservatively afford to pay?\n",
    "(Let’s say we want to have a 90% chance of breaking even.)\n",
    "\n",
    "\n",
    "#### model\n",
    "\n",
    "            (you are not trying to maximise profit, you are optimizing \n",
    "            for market penetration instead).\n",
    "\n",
    "     \n",
    "        \n",
    "      How much can we afford to pay?\n",
    "            What if we are worried about being unlucky - how much can \n",
    "            we conservatively afford to pay? (Let’s say we want to have \n",
    "            a 90% chance of breaking even.\n",
    "\n",
    "\n",
    "        can afford to pay 30* 0.16 per click: $4.80\n",
    "        \n",
    "        e.g. if 6000 clicks => (6000*.16) buyers ie 960 buyers \n",
    "        960 buyers at 30 each average = 28000\n",
    "        28000/6000 = 4.80 (this is assuming average sale of 30 is correct)\n",
    "            \n",
    "        If want 90% chance of breaking even would assume average sale of \n",
    "        27 dollars not 30 therefore max per click to pay will be:\n",
    "                (27*.16) = $4.32 per click\n",
    "        \n",
    "        "
   ]
  },
  {
   "cell_type": "markdown",
   "metadata": {},
   "source": [
    "#### Q4:How much can we afford to pay?\n",
    "\n",
    "Answer:\n",
    "\n",
    "            can afford to pay 30* 0.16 per click: $4.80 (Check: can see\n",
    "                        this from graph: 'how much money the average click\n",
    "                        will bring in' below)\n",
    "\n",
    "    e.g. if 6000 clicks => (6000*.16) buyers ie 960 buyers \n",
    "    960 buyers at 30 each average = 28000\n",
    "    28000/6000 = 4.80 (this is assuming average sale of 30 is correct)\n",
    "    \n",
    "  "
   ]
  },
  {
   "cell_type": "markdown",
   "metadata": {},
   "source": [
    "#### Q4:Worried about being unlucky?   \n",
    "    What if we are worried about being unlucky - how much can \n",
    "    we conservatively afford to pay? (Let’s say we want to have \n",
    "    a 90% chance of breaking even.\n",
    "    \n",
    " Answer   \n",
    "\n",
    "    If want 90% chance of breaking even would assume average sale of \n",
    "    27 dollars not 30 therefore max per click to pay will be:\n",
    "            (27*.16) = $4.32 per click\n",
    "            This plotted too below and can see difference"
   ]
  },
  {
   "cell_type": "code",
   "execution_count": null,
   "metadata": {
    "collapsed": true
   },
   "outputs": [],
   "source": [
    "# prior for buyer ie conversion rate\n",
    "alpha = 2\n",
    "beta = 5\n",
    "p = pymc.Beta('p', alpha=alpha, beta=beta)"
   ]
  },
  {
   "cell_type": "code",
   "execution_count": null,
   "metadata": {
    "collapsed": false
   },
   "outputs": [],
   "source": [
    "# plot conversion rate prior \n",
    "x = np.linspace(0, 1, 100)\n",
    "plt.plot(x, stats.beta.pdf(x, alpha, beta), label='prior');\n",
    "plt.legend(loc='best');"
   ]
  },
  {
   "cell_type": "code",
   "execution_count": 18,
   "metadata": {
    "collapsed": true
   },
   "outputs": [],
   "source": [
    "# how much spent\n",
    "mu = 30\n",
    "tau = 1./(5**2)\n",
    "\n",
    "mu = pymc.Normal('mu', mu=mu,tau=tau)\n",
    "tau = pymc.Normal('tau')\n",
    "\n",
    "q = pymc.Normal('q', mu=mu, tau=tau) #here is just mean 30 - sd 5 \n",
    "\n",
    "@pymc.deterministic\n",
    "def av_income_per_click(q=q,p=p): # average purchase,q ; num buyers,p  \n",
    "    return q*p   # \n"
   ]
  },
  {
   "cell_type": "code",
   "execution_count": 20,
   "metadata": {
    "collapsed": false,
    "scrolled": false
   },
   "outputs": [
    {
     "name": "stdout",
     "output_type": "stream",
     "text": [
      " [-----------------100%-----------------] 51000 of 51000 complete in 9.7 sec"
     ]
    },
    {
     "data": {
      "image/png": "[encoded data removed]",
      "text/plain": [
       "<matplotlib.figure.Figure at 0x11c0c5510>"
      ]
     },
     "metadata": {},
     "output_type": "display_data"
    },
    {
     "data": {
      "image/png": "[encoded data removed]",
      "text/plain": [
       "<matplotlib.figure.Figure at 0x11f528ed0>"
      ]
     },
     "metadata": {},
     "output_type": "display_data"
    },
    {
     "data": {
      "image/png": "[encoded data removed]",
      "text/plain": [
       "<matplotlib.figure.Figure at 0x11e641750>"
      ]
     },
     "metadata": {},
     "output_type": "display_data"
    },
    {
     "data": {
      "image/png": "[encoded data removed]",
      "text/plain": [
       "<matplotlib.figure.Figure at 0x11e0d5a90>"
      ]
     },
     "metadata": {},
     "output_type": "display_data"
    }
   ],
   "source": [
    "#model and plot distributions\n",
    "\n",
    "m = pymc.Model([q,p,av_income_per_click])\n",
    "mc = pymc.MCMC(m, )\n",
    "mc.sample(iter=51000, burn=10000)\n",
    "\n",
    "#average sales \n",
    "plt.figure(figsize=(10,8))\n",
    "plt.subplot(111)\n",
    "plt.hist(q.trace(), 50, histtype='step', normed=True, label='average value (spend) per order');\n",
    "plt.legend(loc='best');\n",
    "\n",
    "#conversion rate clicks:sales - customers buying\n",
    "plt.figure(figsize=(15,10))\n",
    "plt.subplot(121)\n",
    "plt.hist(p.trace(), 50, histtype='step', normed=True, label='customers buying ie conversion rate');\n",
    "plt.legend(loc='best');\n",
    "\n",
    "#how much to pay per click ie how much money average click will bring in\n",
    "plt.figure(figsize=(20,12))\n",
    "plt.subplot(131)\n",
    "plt.hist(av_income_per_click.trace(), 50, histtype='step', normed=True, label='how much money the average click will bring in');\n",
    "plt.legend(loc='best');\n",
    "\n",
    "#how much to pay per click ie how much money average click will bring in\n",
    "plt.figure(figsize=(20,12))\n",
    "plt.subplot(131)\n",
    "plt.hist(30*.16, 50, histtype='step', normed=True, label='how much money the average click will bring in');\n",
    "plt.legend(loc='best');"
   ]
  },
  {
   "cell_type": "code",
   "execution_count": null,
   "metadata": {
    "collapsed": true
   },
   "outputs": [],
   "source": [
    "# if being conservation\n",
    "# how much spent\n",
    "mu = 27   # 90% of 30 - will keep standard deviation of 5\n",
    "tau = 1./(5**2)\n",
    "\n",
    "mu = pymc.Normal('mu', mu=mu,tau=tau)\n",
    "tau = pymc.Normal('tau')\n",
    "\n",
    "q = pymc.Normal('q', mu=mu, tau=tau) #here is just mean 27 - sd 5 \n",
    "\n",
    "@pymc.deterministic\n",
    "def av_income_per_click(q=q,p=p): # average purchase,q ; num buyers,p  \n",
    "    return q*p   # \n",
    "\n",
    "\n"
   ]
  },
  {
   "cell_type": "code",
   "execution_count": null,
   "metadata": {
    "collapsed": false
   },
   "outputs": [],
   "source": [
    "#model and plot distributions - this time conservative 27 per spend\n",
    "\n",
    "m = pymc.Model([q,p,av_income_per_click])\n",
    "mc = pymc.MCMC(m, )\n",
    "mc.sample(iter=51000, burn=10000)\n",
    "\n",
    "#average sales \n",
    "plt.figure(figsize=(10,8))\n",
    "plt.subplot(111)\n",
    "plt.hist(q.trace(), 50, histtype='step', normed=True, label='average value (spend) per order now $27');\n",
    "plt.legend(loc='best');\n",
    "\n",
    "#conversion rate clicks:sales - customers buying\n",
    "plt.figure(figsize=(15,10))\n",
    "plt.subplot(121)\n",
    "plt.hist(p.trace(), 50, histtype='step', normed=True, label='customers buying ie conversion rate -same');\n",
    "plt.legend(loc='best');\n",
    "\n",
    "#how much to pay per click ie how much money average click will bring in\n",
    "plt.figure(figsize=(20,12))\n",
    "plt.subplot(131)\n",
    "plt.hist(av_income_per_click.trace(), 50, histtype='step', normed=True, label='reduced money the average click may bring in');\n",
    "plt.legend(loc='best');"
   ]
  },
  {
   "cell_type": "markdown",
   "metadata": {},
   "source": [
    "### End of assignment"
   ]
  },
  {
   "cell_type": "markdown",
   "metadata": {},
   "source": [
    "."
   ]
  },
  {
   "cell_type": "markdown",
   "metadata": {},
   "source": [
    "references:\n",
    "   \n",
    "    https://people.duke.edu/~ccc14/sta-663/PyMC2.html\n",
    "    \n",
    "    https://blog.dominodatalab.com/ab-testing-with-hierarchical-models-in-  python/\n",
    "    \n",
    "    https://healthyalgorithms.com/2008/11/26/mcmc-in-python-pymc-for- bayesian-probability/\n",
    "    \n",
    "    https://pymc-devs.github.io/pymc/modelbuilding.html and other chapters from here\n",
    "    \n",
    "    http://nbviewer.jupyter.org/github/CamDavidsonPilon/Probabilistic- Programming-and-Bayesian-Methods-for-Hackers/blob/master/Chapter1_Introduction/Chapter1.ipynb\n",
    "    \n",
    "    https://www.youtube.com/watch?v=ssVsVhZEQ9M\n",
    "    \n",
    "    https://www.youtube.com/watch?v=XbxIo7ScVzc\n",
    "    "
   ]
  },
  {
   "cell_type": "markdown",
   "metadata": {},
   "source": [
    "."
   ]
  },
  {
   "cell_type": "markdown",
   "metadata": {},
   "source": [
    "."
   ]
  },
  {
   "cell_type": "markdown",
   "metadata": {},
   "source": [
    "#### working area below here"
   ]
  },
  {
   "cell_type": "code",
   "execution_count": null,
   "metadata": {
    "collapsed": true
   },
   "outputs": [],
   "source": []
  },
  {
   "cell_type": "code",
   "execution_count": null,
   "metadata": {
    "collapsed": true
   },
   "outputs": [],
   "source": []
  },
  {
   "cell_type": "markdown",
   "metadata": {
    "collapsed": true
   },
   "source": [
    "### 4. Business modeling\n",
    " An online retailer has asked you to help figure out the maximum amount they should bid on\n",
    "ads to bring a user to their site.\n",
    "\n",
    " They want to know how much they should pay for each ad\n",
    "click in future. \n",
    "\n",
    " You want to make as many sales as possible while breaking even (you are not\n",
    "trying to maximise profit, you are optimizing for market penetration instead).\n",
    "\n",
    "   The average value of an order, for users who actually order, can be described by normal\n",
    "    distribution with mean $30 and standard deviation 5.\n",
    "\n",
    " However, not everybody who clicks on the ad subsequently orders.\n",
    "\n",
    " We are not sure of the exact conversion rate - but our prior which we’ll use is that the\n",
    "probability of a user ordering, given that they click on the ad and visit the site, can be described\n",
    "by a beta distribution, beta(alpha=2,beta=5) (i.e. we think conversion rates are low, about\n",
    "16% on average).\n",
    "\n",
    " Use pymc to make a model of the above situation.\n",
    "\n",
    " Use pymc to plot your prior distributions. Then plot the distribution of how much money the\n",
    "average click will bring in. (This will tell us how much we can afford to pay for the average\n",
    "click. \n",
    " Assume no costs other than customer acquisition.)\n",
    " \n",
    " How much can we afford to pay?\n",
    "\n",
    " What if we are worried about being unlucky - how much can we conservatively afford to pay?\n",
    "(Let’s say we want to have a 90% chance of breaking even.)\n",
    "\n",
    "\n",
    "\n",
    "\n",
    " model\n",
    "\n",
    "            (you are not trying to maximise profit, you are optimizing \n",
    "            for market penetration instead).\n",
    "\n",
    "    graphs needed:\n",
    "    \n",
    "        1. normal distribution for average value of order\n",
    "        \n",
    "        2. average value distribution\n",
    "        \n",
    "        3. beta distribution for ordering\n",
    "        \n",
    "        4. average click distribution\n",
    "        \n",
    "\n"
   ]
  },
  {
   "cell_type": "code",
   "execution_count": null,
   "metadata": {
    "collapsed": true
   },
   "outputs": [],
   "source": [
    "# prior for buyer  Q4\n",
    "alpha = 2\n",
    "beta = 5\n",
    "p = pymc.Beta('p', alpha=alpha, beta=beta)"
   ]
  },
  {
   "cell_type": "code",
   "execution_count": null,
   "metadata": {
    "collapsed": false,
    "scrolled": true
   },
   "outputs": [],
   "source": [
    "# plot prior for Q4\n",
    "x = np.linspace(0, 1, 100)\n",
    "plt.plot(x, stats.beta.pdf(x, alpha, beta), label='prior');\n",
    "plt.legend(loc='best');"
   ]
  },
  {
   "cell_type": "code",
   "execution_count": null,
   "metadata": {
    "collapsed": false
   },
   "outputs": [],
   "source": [
    "#  too contrived approx fine\n",
    "@pymc.deterministic\n",
    "def buyers(p=p): # better approximation to 16% but approx so doesnt matter\n",
    "    return p/1.05   # \n",
    "\n",
    "m = pymc.Model([buyers,p])\n",
    "mc = pymc.MCMC(m, )\n",
    "mc.sample(iter=51000, burn=10000)\n",
    "\n",
    "\n",
    "\n",
    "plt.figure(figsize=(10,8))\n",
    "plt.hist(buyers.trace(), 50, histtype='step', normed=True, label='');\n",
    "plt.legend(loc='best');\n"
   ]
  },
  {
   "cell_type": "code",
   "execution_count": null,
   "metadata": {
    "collapsed": true
   },
   "outputs": [],
   "source": [
    "# think this distribution might be better\n",
    "alpha1 = 2\n",
    "beta1 = 6\n",
    "p = pymc.Beta('p', alpha=alpha1, beta=beta1)\n"
   ]
  },
  {
   "cell_type": "code",
   "execution_count": null,
   "metadata": {
    "collapsed": false,
    "scrolled": true
   },
   "outputs": [],
   "source": [
    "# plot prior for this new dist\n",
    "x = np.linspace(0, 1, 100)\n",
    "plt.plot(x, stats.beta.pdf(x, alpha1, beta1), label='prior');\n",
    "plt.legend(loc='best');"
   ]
  },
  {
   "cell_type": "code",
   "execution_count": null,
   "metadata": {
    "collapsed": false
   },
   "outputs": [],
   "source": [
    "#  for how much spent Q4\n",
    "mu = 30\n",
    "tau = 1./(5**2)\n",
    "\n",
    "mu = pymc.Normal('mu', mu=mu,tau=tau)\n",
    "tau = pymc.Normal('tau')\n",
    "\n",
    "\n",
    "\n",
    "\n",
    "q = pymc.Normal('q', mu=mu, tau=tau) #here is just mean 30 - sd 5 \n",
    "\n",
    "@pymc.deterministic\n",
    "def income_per_click(q=q,buyers=buyers):\n",
    "    return q*buyers\n"
   ]
  },
  {
   "cell_type": "code",
   "execution_count": null,
   "metadata": {
    "collapsed": false,
    "scrolled": false
   },
   "outputs": [],
   "source": [
    "m = pymc.Model([q,p,income_per_click])\n",
    "mc = pymc.MCMC(m, )\n",
    "mc.sample(iter=51000, burn=10000)\n",
    "\n",
    "\n",
    "\n",
    "plt.figure(figsize=(10,8))\n",
    "plt.subplot(111)\n",
    "plt.hist(q.trace(), 50, histtype='step', normed=True, label='average value per order');\n",
    "plt.legend(loc='best');\n",
    "\n",
    " \n",
    "plt.figure(figsize=(20,8))\n",
    "plt.subplot(121)\n",
    "plt.hist(av_income_per_click.trace(), 50, histtype='step', normed=True, label='average value per click');\n",
    "plt.legend(loc='best');\n",
    "\n",
    "\n"
   ]
  },
  {
   "cell_type": "markdown",
   "metadata": {},
   "source": [
    "."
   ]
  },
  {
   "cell_type": "markdown",
   "metadata": {
    "collapsed": true
   },
   "source": [
    "Notes:\n",
    "\n",
    "\n",
    "\n",
    "\n",
    "\n",
    "\n",
    "\n",
    "Expected Value\n",
    "http://nbviewer.jupyter.org/github/CamDavidsonPilon/Probabilistic-Programming-and-Bayesian-Methods-for-Hackers/blob/master/Chapter1_Introduction/Chapter1.ipynb\n",
    "    Expected value (EV) is one of the most important concepts in probability. \n",
    "\n",
    "    The EV for a given probability distribution can be described as \"the mean value in the long run for many repeated samples from that distribution.\" \n",
    "\n",
    "    To borrow a metaphor from physics, a distribution's EV as like its \"center of mass.\" Imagine repeating the same experiment many times over, and taking the average over each outcome. \n",
    "    The more you repeat the experiment, the closer this average will become to the distributions EV. \n",
    "\n",
    "    (side note: as the number of repeated experiments goes to infinity, the difference between the average outcome and the EV becomes arbitrarily small.)\n",
    "    \n",
    "    \n",
    "    \n",
    "    \n",
    "http://nbviewer.jupyter.org/github/CamDavidsonPilon/Probabilistic-Programming-and-Bayesian-Methods-for-Hackers/blob/master/Chapter1_Introduction/Chapter1.ipynb\n",
    "\n",
    "B. Cronin [5] has a very motivating description of probabilistic programming:\n",
    "\n",
    "Another way of thinking about this: unlike a traditional program, which only runs in the forward directions, a probabilistic program is run in both the forward and backward direction. It runs forward to compute the consequences of the assumptions it contains about the world (i.e., the model space it represents), but it also runs backward from the data to constrain the possible explanations. In practice, many probabilistic programming systems will cleverly interleave these forward and backward operations to efficiently home in on the best explanations."
   ]
  }
 ],
 "metadata": {
  "anaconda-cloud": {},
  "kernelspec": {
   "display_name": "Python [Root]",
   "language": "python",
   "name": "Python [Root]"
  },
  "language_info": {
   "codemirror_mode": {
    "name": "ipython",
    "version": 2
   },
   "file_extension": ".py",
   "mimetype": "text/x-python",
   "name": "python",
   "nbconvert_exporter": "python",
   "pygments_lexer": "ipython2",
   "version": "2.7.11"
  }
 },
 "nbformat": 4,
 "nbformat_minor": 0
}
